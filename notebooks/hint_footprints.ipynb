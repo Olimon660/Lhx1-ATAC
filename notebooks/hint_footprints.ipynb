{
 "cells": [
  {
   "cell_type": "code",
   "execution_count": 1,
   "metadata": {
    "ExecuteTime": {
     "end_time": "2019-03-27T05:15:31.849650Z",
     "start_time": "2019-03-27T05:15:29.549448Z"
    }
   },
   "outputs": [],
   "source": [
    "import pandas as pd\n",
    "import seaborn"
   ]
  },
  {
   "cell_type": "markdown",
   "metadata": {},
   "source": [
    "# DEF"
   ]
  },
  {
   "cell_type": "code",
   "execution_count": 15,
   "metadata": {
    "ExecuteTime": {
     "end_time": "2019-03-27T04:27:19.115892Z",
     "start_time": "2019-03-27T04:27:16.249895Z"
    }
   },
   "outputs": [],
   "source": [
    "HOM = pd.read_csv(\n",
    "    '../../footprints_hint/fp_HOM.bed',\n",
    "    sep='\\t',\n",
    "    names=['chr', 'start', 'end', 'name', 'score', 'strand', 'empty'])\n",
    "WT = pd.read_csv(\n",
    "    '../../footprints_hint/fp_WT.bed',\n",
    "    sep='\\t',\n",
    "    names=['chr', 'start', 'end', 'name', 'score', 'strand', 'empty'])\n",
    "HOM = HOM.drop(['empty'], axis=1)\n",
    "WT = WT.drop(['empty'], axis=1)\n"
   ]
  },
  {
   "cell_type": "code",
   "execution_count": 30,
   "metadata": {
    "ExecuteTime": {
     "end_time": "2019-03-27T04:42:53.625774Z",
     "start_time": "2019-03-27T04:42:53.602771Z"
    }
   },
   "outputs": [
    {
     "data": {
      "text/plain": [
       "(6234, 6)"
      ]
     },
     "execution_count": 30,
     "metadata": {},
     "output_type": "execute_result"
    }
   ],
   "source": [
    "WT[WT['score']>700].shape"
   ]
  },
  {
   "cell_type": "code",
   "execution_count": 31,
   "metadata": {
    "ExecuteTime": {
     "end_time": "2019-03-27T04:42:57.440525Z",
     "start_time": "2019-03-27T04:42:57.415259Z"
    }
   },
   "outputs": [
    {
     "data": {
      "text/plain": [
       "(7387, 6)"
      ]
     },
     "execution_count": 31,
     "metadata": {},
     "output_type": "execute_result"
    }
   ],
   "source": [
    "HOM[HOM['score']>700].shape"
   ]
  },
  {
   "cell_type": "code",
   "execution_count": 32,
   "metadata": {
    "ExecuteTime": {
     "end_time": "2019-03-27T04:43:37.728785Z",
     "start_time": "2019-03-27T04:43:37.244078Z"
    }
   },
   "outputs": [],
   "source": [
    "WT = WT[WT['score']>700]\n",
    "HOM = HOM[HOM['score']>700]"
   ]
  },
  {
   "cell_type": "code",
   "execution_count": 33,
   "metadata": {
    "ExecuteTime": {
     "end_time": "2019-03-27T04:43:39.900613Z",
     "start_time": "2019-03-27T04:43:39.893712Z"
    }
   },
   "outputs": [],
   "source": [
    "def overlap(chrom, start, end, df):\n",
    "    return df[(df['chr'] == chrom) & ((\n",
    "        (df['start'] <= start) & (start <= df['end'])) | (\n",
    "            (start <= df['start']) & (df['start'] <= end)))].shape[0] > 0"
   ]
  },
  {
   "cell_type": "code",
   "execution_count": 34,
   "metadata": {
    "ExecuteTime": {
     "end_time": "2019-03-27T04:44:19.974733Z",
     "start_time": "2019-03-27T04:43:41.758420Z"
    }
   },
   "outputs": [],
   "source": [
    "mask = WT.apply(lambda row:overlap(row['chr'], row['start'], row['end'], HOM), axis=1)"
   ]
  },
  {
   "cell_type": "code",
   "execution_count": 35,
   "metadata": {
    "ExecuteTime": {
     "end_time": "2019-03-27T04:44:43.297353Z",
     "start_time": "2019-03-27T04:44:43.282867Z"
    }
   },
   "outputs": [
    {
     "data": {
      "text/plain": [
       "0.17597048444016683"
      ]
     },
     "execution_count": 35,
     "metadata": {},
     "output_type": "execute_result"
    }
   ],
   "source": [
    "1-sum(mask)/len(mask)"
   ]
  },
  {
   "cell_type": "code",
   "execution_count": 36,
   "metadata": {
    "ExecuteTime": {
     "end_time": "2019-03-27T04:45:03.705138Z",
     "start_time": "2019-03-27T04:45:03.664106Z"
    }
   },
   "outputs": [],
   "source": [
    "WT_filtered = WT[~mask]"
   ]
  },
  {
   "cell_type": "code",
   "execution_count": 38,
   "metadata": {
    "ExecuteTime": {
     "end_time": "2019-03-27T04:45:10.520253Z",
     "start_time": "2019-03-27T04:45:10.513425Z"
    }
   },
   "outputs": [
    {
     "data": {
      "text/plain": [
       "(1097, 6)"
      ]
     },
     "execution_count": 38,
     "metadata": {},
     "output_type": "execute_result"
    }
   ],
   "source": [
    "WT_filtered.shape"
   ]
  },
  {
   "cell_type": "code",
   "execution_count": 39,
   "metadata": {
    "ExecuteTime": {
     "end_time": "2019-03-27T04:45:42.375010Z",
     "start_time": "2019-03-27T04:45:42.205462Z"
    }
   },
   "outputs": [],
   "source": [
    "WT_filtered = WT_filtered.reset_index()\n",
    "WT_filtered.to_csv(\n",
    "    '../../footprints_hint/hint_def.bed',\n",
    "    sep='\\t',\n",
    "    header=False,\n",
    "    index=False,\n",
    "    columns=['chr', 'start', 'end', 'index', 'score', 'strand'])"
   ]
  },
  {
   "cell_type": "code",
   "execution_count": null,
   "metadata": {
    "ExecuteTime": {
     "end_time": "2019-03-27T04:46:15.605809Z",
     "start_time": "2019-03-27T04:46:15.270686Z"
    }
   },
   "outputs": [],
   "source": [
    "!annotatePeaks.pl ../../footprints_hint/hint_def.bed mm10 \\\n",
    " > ../../footprints_hint/hint_def_annotated.txt -cpu 10"
   ]
  },
  {
   "cell_type": "code",
   "execution_count": 139,
   "metadata": {
    "ExecuteTime": {
     "end_time": "2019-03-25T11:59:57.570949Z",
     "start_time": "2019-03-25T11:59:57.555988Z"
    }
   },
   "outputs": [
    {
     "data": {
      "text/html": [
       "<div>\n",
       "<style scoped>\n",
       "    .dataframe tbody tr th:only-of-type {\n",
       "        vertical-align: middle;\n",
       "    }\n",
       "\n",
       "    .dataframe tbody tr th {\n",
       "        vertical-align: top;\n",
       "    }\n",
       "\n",
       "    .dataframe thead th {\n",
       "        text-align: right;\n",
       "    }\n",
       "</style>\n",
       "<table border=\"1\" class=\"dataframe\">\n",
       "  <thead>\n",
       "    <tr style=\"text-align: right;\">\n",
       "      <th></th>\n",
       "      <th>index</th>\n",
       "      <th>chr</th>\n",
       "      <th>start</th>\n",
       "      <th>end</th>\n",
       "      <th>score</th>\n",
       "      <th>strand</th>\n",
       "    </tr>\n",
       "  </thead>\n",
       "  <tbody>\n",
       "    <tr>\n",
       "      <th>525</th>\n",
       "      <td>4116</td>\n",
       "      <td>chr12</td>\n",
       "      <td>64965730</td>\n",
       "      <td>64965755</td>\n",
       "      <td>-118.502663</td>\n",
       "      <td>+</td>\n",
       "    </tr>\n",
       "  </tbody>\n",
       "</table>\n",
       "</div>"
      ],
      "text/plain": [
       "     index    chr     start       end       score strand\n",
       "525   4116  chr12  64965730  64965755 -118.502663      +"
      ]
     },
     "execution_count": 139,
     "metadata": {},
     "output_type": "execute_result"
    }
   ],
   "source": [
    "WT_filtered[(WT_filtered['chr']=='chr12')&(WT_filtered['start']>64965708)&(WT_filtered['end']<64965777)]"
   ]
  },
  {
   "cell_type": "code",
   "execution_count": 140,
   "metadata": {
    "ExecuteTime": {
     "end_time": "2019-03-25T11:59:58.634509Z",
     "start_time": "2019-03-25T11:59:58.623840Z"
    }
   },
   "outputs": [
    {
     "data": {
      "text/html": [
       "<div>\n",
       "<style scoped>\n",
       "    .dataframe tbody tr th:only-of-type {\n",
       "        vertical-align: middle;\n",
       "    }\n",
       "\n",
       "    .dataframe tbody tr th {\n",
       "        vertical-align: top;\n",
       "    }\n",
       "\n",
       "    .dataframe thead th {\n",
       "        text-align: right;\n",
       "    }\n",
       "</style>\n",
       "<table border=\"1\" class=\"dataframe\">\n",
       "  <thead>\n",
       "    <tr style=\"text-align: right;\">\n",
       "      <th></th>\n",
       "      <th>chr</th>\n",
       "      <th>start</th>\n",
       "      <th>end</th>\n",
       "      <th>score</th>\n",
       "      <th>strand</th>\n",
       "    </tr>\n",
       "  </thead>\n",
       "  <tbody>\n",
       "    <tr>\n",
       "      <th>3547</th>\n",
       "      <td>chr12</td>\n",
       "      <td>64965730</td>\n",
       "      <td>64965755</td>\n",
       "      <td>-98.356094</td>\n",
       "      <td>+</td>\n",
       "    </tr>\n",
       "  </tbody>\n",
       "</table>\n",
       "</div>"
      ],
      "text/plain": [
       "        chr     start       end      score strand\n",
       "3547  chr12  64965730  64965755 -98.356094      +"
      ]
     },
     "execution_count": 140,
     "metadata": {},
     "output_type": "execute_result"
    }
   ],
   "source": [
    "HOM[(HOM['chr']=='chr12')&(HOM['start']>64965708)&(HOM['end']<64965777)]"
   ]
  },
  {
   "cell_type": "code",
   "execution_count": null,
   "metadata": {},
   "outputs": [],
   "source": []
  }
 ],
 "metadata": {
  "kernelspec": {
   "display_name": "Python 3",
   "language": "python",
   "name": "python3"
  },
  "language_info": {
   "codemirror_mode": {
    "name": "ipython",
    "version": 3
   },
   "file_extension": ".py",
   "mimetype": "text/x-python",
   "name": "python",
   "nbconvert_exporter": "python",
   "pygments_lexer": "ipython3",
   "version": "3.6.8"
  },
  "notify_time": "5",
  "toc": {
   "base_numbering": 1,
   "nav_menu": {},
   "number_sections": true,
   "sideBar": true,
   "skip_h1_title": false,
   "title_cell": "Table of Contents",
   "title_sidebar": "Contents",
   "toc_cell": false,
   "toc_position": {},
   "toc_section_display": true,
   "toc_window_display": true
  }
 },
 "nbformat": 4,
 "nbformat_minor": 2
}
