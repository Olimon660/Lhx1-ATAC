{
 "cells": [
  {
   "cell_type": "code",
   "execution_count": 2,
   "metadata": {
    "ExecuteTime": {
     "end_time": "2019-03-29T01:12:59.704861Z",
     "start_time": "2019-03-29T01:12:58.823117Z"
    }
   },
   "outputs": [],
   "source": [
    "import pandas as pd"
   ]
  },
  {
   "cell_type": "markdown",
   "metadata": {},
   "source": [
    "# DEF merge"
   ]
  },
  {
   "cell_type": "code",
   "execution_count": 6,
   "metadata": {
    "ExecuteTime": {
     "end_time": "2019-03-27T05:20:42.110437Z",
     "start_time": "2019-03-27T05:20:42.093362Z"
    }
   },
   "outputs": [],
   "source": [
    "pydnase_def = pd.read_csv(\n",
    "    '../../footprints_pydnase/pydnase_def.bed',\n",
    "    sep='\\t',\n",
    "    names=['chr', 'start', 'end', 'id', 'score', 'strand'])\n",
    "hint_def = pd.read_csv(\n",
    "    '../../footprints_hint/hint_def.bed',\n",
    "    sep='\\t',\n",
    "    names=['chr', 'start', 'end', 'id', 'score', 'strand'])"
   ]
  },
  {
   "cell_type": "code",
   "execution_count": 5,
   "metadata": {
    "ExecuteTime": {
     "end_time": "2019-03-27T05:20:19.226353Z",
     "start_time": "2019-03-27T05:20:19.208447Z"
    }
   },
   "outputs": [
    {
     "data": {
      "text/html": [
       "<div>\n",
       "<style scoped>\n",
       "    .dataframe tbody tr th:only-of-type {\n",
       "        vertical-align: middle;\n",
       "    }\n",
       "\n",
       "    .dataframe tbody tr th {\n",
       "        vertical-align: top;\n",
       "    }\n",
       "\n",
       "    .dataframe thead th {\n",
       "        text-align: right;\n",
       "    }\n",
       "</style>\n",
       "<table border=\"1\" class=\"dataframe\">\n",
       "  <thead>\n",
       "    <tr style=\"text-align: right;\">\n",
       "      <th></th>\n",
       "      <th>chr</th>\n",
       "      <th>start</th>\n",
       "      <th>end</th>\n",
       "      <th>id</th>\n",
       "      <th>score</th>\n",
       "      <th>strand</th>\n",
       "    </tr>\n",
       "  </thead>\n",
       "  <tbody>\n",
       "    <tr>\n",
       "      <th>0</th>\n",
       "      <td>chr1</td>\n",
       "      <td>4857657</td>\n",
       "      <td>4857678</td>\n",
       "      <td>0</td>\n",
       "      <td>-37.650356</td>\n",
       "      <td>+</td>\n",
       "    </tr>\n",
       "    <tr>\n",
       "      <th>1</th>\n",
       "      <td>chr1</td>\n",
       "      <td>4857713</td>\n",
       "      <td>4857724</td>\n",
       "      <td>1</td>\n",
       "      <td>-36.783672</td>\n",
       "      <td>+</td>\n",
       "    </tr>\n",
       "    <tr>\n",
       "      <th>2</th>\n",
       "      <td>chr1</td>\n",
       "      <td>4857740</td>\n",
       "      <td>4857751</td>\n",
       "      <td>2</td>\n",
       "      <td>-31.460691</td>\n",
       "      <td>+</td>\n",
       "    </tr>\n",
       "    <tr>\n",
       "      <th>3</th>\n",
       "      <td>chr1</td>\n",
       "      <td>7089080</td>\n",
       "      <td>7089105</td>\n",
       "      <td>22</td>\n",
       "      <td>-40.151836</td>\n",
       "      <td>+</td>\n",
       "    </tr>\n",
       "    <tr>\n",
       "      <th>4</th>\n",
       "      <td>chr1</td>\n",
       "      <td>7088747</td>\n",
       "      <td>7088770</td>\n",
       "      <td>23</td>\n",
       "      <td>-39.563774</td>\n",
       "      <td>+</td>\n",
       "    </tr>\n",
       "  </tbody>\n",
       "</table>\n",
       "</div>"
      ],
      "text/plain": [
       "    chr    start      end  id      score strand\n",
       "0  chr1  4857657  4857678   0 -37.650356      +\n",
       "1  chr1  4857713  4857724   1 -36.783672      +\n",
       "2  chr1  4857740  4857751   2 -31.460691      +\n",
       "3  chr1  7089080  7089105  22 -40.151836      +\n",
       "4  chr1  7088747  7088770  23 -39.563774      +"
      ]
     },
     "execution_count": 5,
     "metadata": {},
     "output_type": "execute_result"
    }
   ],
   "source": [
    "pydnase_def.head()"
   ]
  },
  {
   "cell_type": "code",
   "execution_count": 10,
   "metadata": {
    "ExecuteTime": {
     "end_time": "2019-03-27T05:22:06.171223Z",
     "start_time": "2019-03-27T05:22:06.155661Z"
    }
   },
   "outputs": [],
   "source": [
    "def overlap(chrom, start, end, df):\n",
    "    return df[(df['chr'] == chrom) & ((\n",
    "        (df['start'] <= start) & (start <= df['end'])) | (\n",
    "            (start <= df['start']) & (df['start'] <= end)))].shape[0] > 0"
   ]
  },
  {
   "cell_type": "code",
   "execution_count": 16,
   "metadata": {
    "ExecuteTime": {
     "end_time": "2019-03-27T05:24:02.682434Z",
     "start_time": "2019-03-27T05:23:56.259426Z"
    }
   },
   "outputs": [],
   "source": [
    "mask = pydnase_def.apply(lambda row:overlap(row['chr'], row['start'], row['end'], hint_def), axis=1)"
   ]
  },
  {
   "cell_type": "code",
   "execution_count": 17,
   "metadata": {
    "ExecuteTime": {
     "end_time": "2019-03-27T05:24:13.998753Z",
     "start_time": "2019-03-27T05:24:13.990474Z"
    }
   },
   "outputs": [],
   "source": [
    "intersect = pydnase_def[mask]"
   ]
  },
  {
   "cell_type": "code",
   "execution_count": 19,
   "metadata": {
    "ExecuteTime": {
     "end_time": "2019-03-27T05:24:38.263323Z",
     "start_time": "2019-03-27T05:24:38.252912Z"
    }
   },
   "outputs": [
    {
     "data": {
      "text/html": [
       "<div>\n",
       "<style scoped>\n",
       "    .dataframe tbody tr th:only-of-type {\n",
       "        vertical-align: middle;\n",
       "    }\n",
       "\n",
       "    .dataframe tbody tr th {\n",
       "        vertical-align: top;\n",
       "    }\n",
       "\n",
       "    .dataframe thead th {\n",
       "        text-align: right;\n",
       "    }\n",
       "</style>\n",
       "<table border=\"1\" class=\"dataframe\">\n",
       "  <thead>\n",
       "    <tr style=\"text-align: right;\">\n",
       "      <th></th>\n",
       "      <th>chr</th>\n",
       "      <th>start</th>\n",
       "      <th>end</th>\n",
       "      <th>id</th>\n",
       "      <th>score</th>\n",
       "      <th>strand</th>\n",
       "    </tr>\n",
       "  </thead>\n",
       "  <tbody>\n",
       "    <tr>\n",
       "      <th>0</th>\n",
       "      <td>chr1</td>\n",
       "      <td>4857657</td>\n",
       "      <td>4857678</td>\n",
       "      <td>0</td>\n",
       "      <td>-37.650356</td>\n",
       "      <td>+</td>\n",
       "    </tr>\n",
       "    <tr>\n",
       "      <th>1</th>\n",
       "      <td>chr1</td>\n",
       "      <td>4857713</td>\n",
       "      <td>4857724</td>\n",
       "      <td>1</td>\n",
       "      <td>-36.783672</td>\n",
       "      <td>+</td>\n",
       "    </tr>\n",
       "    <tr>\n",
       "      <th>2</th>\n",
       "      <td>chr1</td>\n",
       "      <td>4857740</td>\n",
       "      <td>4857751</td>\n",
       "      <td>2</td>\n",
       "      <td>-31.460691</td>\n",
       "      <td>+</td>\n",
       "    </tr>\n",
       "    <tr>\n",
       "      <th>68</th>\n",
       "      <td>chr1</td>\n",
       "      <td>93635874</td>\n",
       "      <td>93635899</td>\n",
       "      <td>566</td>\n",
       "      <td>-36.489204</td>\n",
       "      <td>+</td>\n",
       "    </tr>\n",
       "    <tr>\n",
       "      <th>97</th>\n",
       "      <td>chr1</td>\n",
       "      <td>119837506</td>\n",
       "      <td>119837531</td>\n",
       "      <td>811</td>\n",
       "      <td>-28.076332</td>\n",
       "      <td>+</td>\n",
       "    </tr>\n",
       "  </tbody>\n",
       "</table>\n",
       "</div>"
      ],
      "text/plain": [
       "     chr      start        end   id      score strand\n",
       "0   chr1    4857657    4857678    0 -37.650356      +\n",
       "1   chr1    4857713    4857724    1 -36.783672      +\n",
       "2   chr1    4857740    4857751    2 -31.460691      +\n",
       "68  chr1   93635874   93635899  566 -36.489204      +\n",
       "97  chr1  119837506  119837531  811 -28.076332      +"
      ]
     },
     "execution_count": 19,
     "metadata": {},
     "output_type": "execute_result"
    }
   ],
   "source": [
    "intersect.head()"
   ]
  },
  {
   "cell_type": "code",
   "execution_count": 20,
   "metadata": {
    "ExecuteTime": {
     "end_time": "2019-03-27T05:26:36.727075Z",
     "start_time": "2019-03-27T05:26:36.667789Z"
    }
   },
   "outputs": [],
   "source": [
    "intersect.to_csv(\n",
    "    '../../analysis_results/overlap_pydnase_hint_def.bed',\n",
    "    sep='\\t',\n",
    "    header=False,\n",
    "    index=False,\n",
    ")"
   ]
  },
  {
   "cell_type": "code",
   "execution_count": 21,
   "metadata": {
    "ExecuteTime": {
     "end_time": "2019-03-27T05:27:44.757345Z",
     "start_time": "2019-03-27T05:27:06.919033Z"
    }
   },
   "outputs": [
    {
     "name": "stdout",
     "output_type": "stream",
     "text": [
      "\n",
      "\tPeak file = ../../analysis_results/overlap_pydnase_hint_def.bed\n",
      "\tGenome = mm10\n",
      "\tOrganism = mouse\n",
      "\tWill use up to 10 CPUs in parts that can use them\n",
      "\tPeak/BED file conversion summary:\n",
      "\t\tBED/Header formatted lines: 116\n",
      "\t\tpeakfile formatted lines: 0\n",
      "\t\tDuplicated Peak IDs: 0\n",
      "\n",
      "\tPeak File Statistics:\n",
      "\t\tTotal Peaks: 116\n",
      "\t\tRedundant Peak IDs: 0\n",
      "\t\tPeaks lacking information: 0 (need at least 5 columns per peak)\n",
      "\t\tPeaks with misformatted coordinates: 0 (should be integer)\n",
      "\t\tPeaks with misformatted strand: 0 (should be either +/- or 0/1)\n",
      "\n",
      "\tPeak file looks good!\n",
      "\n",
      "\tReading Positions...\n",
      "\t-----------------------\n",
      "\tFinding Closest TSS...\n",
      "\tAnnotating:...................\n",
      "\t\tAnnotation\tNumber of peaks\tTotal size (bp)\tLog2 Ratio (obs/exp)\tLogP enrichment (+values depleted)\n",
      "\t\t3UTR\t0.0\t19233443\t-0.918\t0.886\n",
      "\t\tmiRNA\t0.0\t24427\t-0.002\t0.001\n",
      "\t\tncRNA\t0.0\t3213464\t-0.199\t0.148\n",
      "\t\tTTS\t1.0\t25876047\t-0.249\t0.406\n",
      "\t\tpseudo\t0.0\t492034\t-0.032\t0.023\n",
      "\t\tExon\t1.0\t32608431\t-0.582\t0.584\n",
      "\t\tIntron\t6.0\t903650082\t-2.790\t32.946\n",
      "\t\tIntergenic\t8.0\t1510886883\t-3.116\t75.302\n",
      "\t\tPromoter\t99.0\t28485804\t6.242\t-398.156\n",
      "\t\t5UTR\t1.0\t2166094\t3.330\t-2.357\n",
      "\t\tsnoRNA\t0.0\t19\t-0.000\t0.000\n",
      "\t\trRNA\t0.0\t5631\t-0.000\t0.000\n",
      "\tNOTE: If this part takes more than 2 minutes, there is a good chance\n",
      "\t\tyour machine ran out of memory: consider hitting ctrl+C and rerunning\n",
      "\t\tthe command with \"-noann\"\n",
      "\tTo capture annotation stats in a file, use \"-annStats <filename>\" next time\n",
      "\tAnnotating:...................\n",
      "\t\tAnnotation\tNumber of peaks\tTotal size (bp)\tLog2 Ratio (obs/exp)\tLogP enrichment (+values depleted)\n",
      "\t\t3UTR\t0.0\t19233443\t-0.918\t0.886\n",
      "\t\tOther\t0.0\t6884334\t-0.397\t0.316\n",
      "\t\tRC?\t0.0\t10706\t-0.001\t0.000\n",
      "\t\tRNA\t0.0\t110171\t-0.007\t0.005\n",
      "\t\tmiRNA\t0.0\t24427\t-0.002\t0.001\n",
      "\t\tncRNA\t0.0\t3213464\t-0.199\t0.148\n",
      "\t\tTTS\t1.0\t25876047\t-0.248\t0.405\n",
      "\t\tLINE\t0.0\t501708487\t-4.894\t25.664\n",
      "\t\tLINE?\t0.0\t7832\t-0.001\t0.000\n",
      "\t\tsrpRNA\t0.0\t41980\t-0.003\t0.002\n",
      "\t\tSINE\t0.0\t187143471\t-3.361\t8.923\n",
      "\t\tRC\t0.0\t64219\t-0.004\t0.003\n",
      "\t\ttRNA\t0.0\t258440\t-0.017\t0.012\n",
      "\t\tDNA?\t0.0\t138129\t-0.009\t0.006\n",
      "\t\tpseudo\t0.0\t492034\t-0.032\t0.023\n",
      "\t\tDNA\t0.0\t27322292\t-1.181\t1.261\n",
      "\t\tExon\t1.0\t32608431\t-0.582\t0.583\n",
      "\t\tIntron\t3.0\t573596629\t-3.133\t20.998\n",
      "\t\tIntergenic\t7.0\t756947187\t-2.311\t22.511\n",
      "\t\tPromoter\t99.0\t28485804\t6.243\t-398.200\n",
      "\t\t5UTR\t1.0\t2166094\t3.331\t-2.357\n",
      "\t\tsnoRNA\t0.0\t19\t-0.000\t0.000\n",
      "\t\tLTR?\t0.0\t184851\t-0.012\t0.008\n",
      "\t\tscRNA\t0.0\t557800\t-0.036\t0.026\n",
      "\t\tCpG-Island\t2.0\t3045864\t3.839\t-4.728\n",
      "\t\tLow_complexity\t0.0\t17761033\t-0.865\t0.818\n",
      "\t\tLTR\t2.0\t281552933\t-2.692\t8.908\n",
      "\t\tSimple_repeat\t0.0\t53122449\t-1.803\t2.464\n",
      "\t\tsnRNA\t0.0\t228551\t-0.015\t0.010\n",
      "\t\tUnknown\t0.0\t1220812\t-0.079\t0.056\n",
      "\t\tSINE?\t0.0\t29214\t-0.002\t0.001\n",
      "\t\tSatellite\t0.0\t3577499\t-0.220\t0.164\n",
      "\t\trRNA\t0.0\t160465\t-0.011\t0.007\n",
      "\tCounting Tags in Peaks from each directory...\n",
      "\tOrganism: mouse\n",
      "\tLoading Gene Informaiton...\n",
      "\tOutputing Annotation File...\n",
      "\tDone annotating peaks file\n",
      "\n"
     ]
    }
   ],
   "source": [
    "!annotatePeaks.pl ../../analysis_results/overlap_pydnase_hint_def.bed mm10 \\\n",
    " > ../../analysis_results/overlap_pydnase_hint_def.txt -cpu 10"
   ]
  },
  {
   "cell_type": "markdown",
   "metadata": {},
   "source": [
    "# WT Run2 only merge"
   ]
  },
  {
   "cell_type": "code",
   "execution_count": 3,
   "metadata": {
    "ExecuteTime": {
     "end_time": "2019-03-29T01:13:02.443349Z",
     "start_time": "2019-03-29T01:13:01.687144Z"
    }
   },
   "outputs": [],
   "source": [
    "pydnase_WT = pd.read_csv(\n",
    "    '../../footprints_pydnase/WT_footprint/Run2_Lhx_flox+.combined.bam.out_filtered.bed.WellingtonFootprints.FDR.0.01.bed',\n",
    "    sep='\\t',\n",
    "    names=['chr', 'start', 'end', 'name', 'score', 'strand'])\n",
    "hint_WT = pd.read_csv(\n",
    "    '../../footprints_hint/fp_WT.bed',\n",
    "    sep='\\t',\n",
    "    names=['chr', 'start', 'end', 'name', 'score', 'strand', 'empty'])"
   ]
  },
  {
   "cell_type": "code",
   "execution_count": 5,
   "metadata": {
    "ExecuteTime": {
     "end_time": "2019-03-29T01:13:52.119048Z",
     "start_time": "2019-03-29T01:13:52.100023Z"
    }
   },
   "outputs": [],
   "source": [
    "hint_WT = hint_WT[hint_WT['score']>700]"
   ]
  },
  {
   "cell_type": "code",
   "execution_count": 6,
   "metadata": {
    "ExecuteTime": {
     "end_time": "2019-03-29T01:14:26.973184Z",
     "start_time": "2019-03-29T01:14:26.970100Z"
    }
   },
   "outputs": [],
   "source": [
    "def overlap(chrom, start, end, df):\n",
    "    return df[(df['chr'] == chrom) & ((\n",
    "        (df['start'] <= start) & (start <= df['end'])) | (\n",
    "            (start <= df['start']) & (df['start'] <= end)))].shape[0] > 0"
   ]
  },
  {
   "cell_type": "code",
   "execution_count": 7,
   "metadata": {
    "ExecuteTime": {
     "end_time": "2019-03-29T01:15:29.002194Z",
     "start_time": "2019-03-29T01:14:47.927235Z"
    }
   },
   "outputs": [],
   "source": [
    "mask = pydnase_WT.apply(lambda row:overlap(row['chr'], row['start'], row['end'], hint_WT), axis=1)"
   ]
  },
  {
   "cell_type": "code",
   "execution_count": 8,
   "metadata": {
    "ExecuteTime": {
     "end_time": "2019-03-29T01:15:37.263702Z",
     "start_time": "2019-03-29T01:15:37.258775Z"
    }
   },
   "outputs": [
    {
     "data": {
      "text/plain": [
       "0.7121896710877909"
      ]
     },
     "execution_count": 8,
     "metadata": {},
     "output_type": "execute_result"
    }
   ],
   "source": [
    "1-sum(mask)/len(mask)"
   ]
  },
  {
   "cell_type": "code",
   "execution_count": 9,
   "metadata": {
    "ExecuteTime": {
     "end_time": "2019-03-29T01:16:07.312437Z",
     "start_time": "2019-03-29T01:16:07.308518Z"
    }
   },
   "outputs": [],
   "source": [
    "pydnase_WT_filtered = pydnase_WT[mask]"
   ]
  },
  {
   "cell_type": "code",
   "execution_count": 10,
   "metadata": {
    "ExecuteTime": {
     "end_time": "2019-03-29T01:16:11.727907Z",
     "start_time": "2019-03-29T01:16:11.724072Z"
    }
   },
   "outputs": [
    {
     "data": {
      "text/plain": [
       "(5924, 6)"
      ]
     },
     "execution_count": 10,
     "metadata": {},
     "output_type": "execute_result"
    }
   ],
   "source": [
    "pydnase_WT_filtered.shape"
   ]
  },
  {
   "cell_type": "code",
   "execution_count": 16,
   "metadata": {
    "ExecuteTime": {
     "end_time": "2019-03-29T01:18:00.787278Z",
     "start_time": "2019-03-29T01:18:00.747843Z"
    }
   },
   "outputs": [],
   "source": [
    "pydnase_WT_filtered.to_csv(\n",
    "    '../../analysis_results/overlap_pydnase_hint_WT.bed',\n",
    "    sep='\\t',\n",
    "    header=False,\n",
    "    index=False,\n",
    ")"
   ]
  },
  {
   "cell_type": "code",
   "execution_count": 17,
   "metadata": {
    "ExecuteTime": {
     "end_time": "2019-03-29T01:18:40.582248Z",
     "start_time": "2019-03-29T01:18:17.205311Z"
    },
    "collapsed": true
   },
   "outputs": [
    {
     "name": "stdout",
     "output_type": "stream",
     "text": [
      "\n",
      "\tPeak file = ../../analysis_results/overlap_pydnase_hint_WT.bed\n",
      "\tGenome = mm10\n",
      "\tOrganism = mouse\n",
      "\tWill use up to 10 CPUs in parts that can use them\n",
      "\tPeak/BED file conversion summary:\n",
      "\t\tBED/Header formatted lines: 5924\n",
      "\t\tpeakfile formatted lines: 0\n",
      "\t\tDuplicated Peak IDs: 0\n",
      "\n",
      "\tPeak File Statistics:\n",
      "\t\tTotal Peaks: 5924\n",
      "\t\tRedundant Peak IDs: 0\n",
      "\t\tPeaks lacking information: 0 (need at least 5 columns per peak)\n",
      "\t\tPeaks with misformatted coordinates: 0 (should be integer)\n",
      "\t\tPeaks with misformatted strand: 0 (should be either +/- or 0/1)\n",
      "\n",
      "\tPeak file looks good!\n",
      "\n",
      "\tReading Positions...\n",
      "\t-----------------------\n",
      "\tFinding Closest TSS...\n",
      "\tAnnotating:.....................\n",
      "\t\tAnnotation\tNumber of peaks\tTotal size (bp)\tLog2 Ratio (obs/exp)\tLogP enrichment (+values depleted)\n",
      "\t\t3UTR\t8.0\t20043017\t-2.447\t23.941\n",
      "\t\tmiRNA\t0.0\t24864\t-0.076\t0.054\n",
      "\t\tncRNA\t8.0\t3372538\t0.124\t-0.794\n",
      "\t\tTTS\t8.0\t27004497\t-2.877\t36.874\n",
      "\t\tpseudo\t0.0\t525084\t-1.100\t1.143\n",
      "\t\tExon\t33.0\t34011073\t-1.166\t16.615\n",
      "\t\tIntron\t239.0\t942500360\t-3.102\t1672.610\n",
      "\t\tIntergenic\t374.0\t1661871012\t-3.274\t4028.634\n",
      "\t\tPromoter\t5131.0\t29755103\t6.308\t-20851.897\n",
      "\t\t5UTR\t123.0\t2269945\t4.638\t-281.792\n",
      "\t\tsnoRNA\t0.0\t19\t-0.000\t0.000\n",
      "\t\trRNA\t0.0\t5631\t-0.018\t0.012\n",
      "\tNOTE: If this part takes more than 2 minutes, there is a good chance\n",
      "\t\tyour machine ran out of memory: consider hitting ctrl+C and rerunning\n",
      "\t\tthe command with \"-noann\"\n",
      "\tTo capture annotation stats in a file, use \"-annStats <filename>\" next time\n",
      "\tAnnotating:.....................\n",
      "\t\tAnnotation\tNumber of peaks\tTotal size (bp)\tLog2 Ratio (obs/exp)\tLogP enrichment (+values depleted)\n",
      "\t\t3UTR\t8.0\t20043017\t-2.447\t23.925\n",
      "\t\tOther\t0.0\t7955052\t-4.198\t17.335\n",
      "\t\tRC?\t0.0\t10979\t-0.034\t0.024\n",
      "\t\tRNA\t0.0\t114021\t-0.320\t0.248\n",
      "\t\tmiRNA\t0.0\t24864\t-0.076\t0.054\n",
      "\t\tncRNA\t8.0\t3372538\t0.125\t-0.795\n",
      "\t\tTTS\t8.0\t27004497\t-2.877\t36.852\n",
      "\t\tLINE\t0.0\t543598426\t-10.530\t1319.415\n",
      "\t\tLINE?\t0.0\t8168\t-0.025\t0.018\n",
      "\t\tsrpRNA\t0.0\t43307\t-0.130\t0.094\n",
      "\t\tSINE\t1.0\t196538593\t-8.740\t437.732\n",
      "\t\tRC\t0.0\t65629\t-0.193\t0.143\n",
      "\t\ttRNA\t6.0\t266393\t3.372\t-10.348\n",
      "\t\tDNA?\t0.0\t142206\t-0.389\t0.309\n",
      "\t\tpseudo\t0.0\t525084\t-1.099\t1.143\n",
      "\t\tDNA\t0.0\t28690203\t-6.002\t62.758\n",
      "\t\tExon\t33.0\t34011073\t-1.165\t16.596\n",
      "\t\tIntron\t115.0\t598475200\t-3.501\t1052.215\n",
      "\t\tIntergenic\t248.0\t828342670\t-2.861\t1327.982\n",
      "\t\tPromoter\t5131.0\t29755103\t6.308\t-20854.122\n",
      "\t\t5UTR\t123.0\t2269945\t4.638\t-281.844\n",
      "\t\tsnoRNA\t0.0\t19\t-0.000\t0.000\n",
      "\t\tLTR?\t0.0\t192563\t-0.505\t0.419\n",
      "\t\tscRNA\t0.0\t602998\t-1.209\t1.312\n",
      "\t\tCpG-Island\t202.0\t3192146\t4.862\t-492.487\n",
      "\t\tLow_complexity\t0.0\t19396289\t-5.443\t42.355\n",
      "\t\tLTR\t35.0\t313011711\t-4.282\t583.103\n",
      "\t\tSimple_repeat\t5.0\t57546348\t-4.646\t107.049\n",
      "\t\tsnRNA\t0.0\t237228\t-0.600\t0.516\n",
      "\t\tUnknown\t0.0\t2407423\t-2.642\t5.241\n",
      "\t\tSINE?\t0.0\t29758\t-0.091\t0.065\n",
      "\t\tSatellite\t1.0\t4525445\t-3.300\t7.470\n",
      "\t\trRNA\t0.0\t166488\t-0.446\t0.362\n",
      "\tCounting Tags in Peaks from each directory...\n",
      "\tOrganism: mouse\n",
      "\tLoading Gene Informaiton...\n",
      "\tOutputing Annotation File...\n",
      "\tDone annotating peaks file\n",
      "\n"
     ]
    }
   ],
   "source": [
    "!annotatePeaks.pl ../../analysis_results/overlap_pydnase_hint_WT.bed mm10 \\\n",
    " > ../../analysis_results/overlap_pydnase_hint_WT.txt -cpu 10"
   ]
  },
  {
   "cell_type": "code",
   "execution_count": null,
   "metadata": {},
   "outputs": [],
   "source": []
  }
 ],
 "metadata": {
  "kernelspec": {
   "display_name": "Python 3",
   "language": "python",
   "name": "python3"
  },
  "language_info": {
   "codemirror_mode": {
    "name": "ipython",
    "version": 3
   },
   "file_extension": ".py",
   "mimetype": "text/x-python",
   "name": "python",
   "nbconvert_exporter": "python",
   "pygments_lexer": "ipython3",
   "version": "3.6.8"
  },
  "toc": {
   "base_numbering": 1,
   "nav_menu": {},
   "number_sections": true,
   "sideBar": true,
   "skip_h1_title": false,
   "title_cell": "Table of Contents",
   "title_sidebar": "Contents",
   "toc_cell": false,
   "toc_position": {},
   "toc_section_display": true,
   "toc_window_display": false
  }
 },
 "nbformat": 4,
 "nbformat_minor": 2
}
