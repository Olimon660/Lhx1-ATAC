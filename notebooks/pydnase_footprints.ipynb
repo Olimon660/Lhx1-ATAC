{
 "cells": [
  {
   "cell_type": "code",
   "execution_count": 148,
   "metadata": {
    "ExecuteTime": {
     "end_time": "2019-03-27T04:37:01.118880Z",
     "start_time": "2019-03-27T04:37:01.098598Z"
    }
   },
   "outputs": [],
   "source": [
    "import pandas as pd"
   ]
  },
  {
   "cell_type": "markdown",
   "metadata": {},
   "source": [
    "# DEF"
   ]
  },
  {
   "cell_type": "code",
   "execution_count": 149,
   "metadata": {
    "ExecuteTime": {
     "end_time": "2019-03-27T04:37:04.206884Z",
     "start_time": "2019-03-27T04:37:03.259390Z"
    }
   },
   "outputs": [],
   "source": [
    "HOM = pd.read_csv(\n",
    "    '../../footprints_pydnase/HOM_footprints/Run2_Meox_Cre+_Lhx_floxdel.combined.bam.optimal_peak.narrowPeak_filter.bed.WellingtonFootprints.FDR.0.01.bed',\n",
    "    sep='\\t',\n",
    "    names=['chr', 'start', 'end', 'name', 'score', 'strand'])\n",
    "WT = pd.read_csv(\n",
    "    '../../footprints_pydnase/WT_footprint/Run2_Lhx_flox+.combined.bam.out_filtered.bed.WellingtonFootprints.FDR.0.01.bed',\n",
    "    sep='\\t',\n",
    "    names=['chr', 'start', 'end', 'name', 'score', 'strand'])\n",
    "HOM = HOM[['chr', 'start', 'end', 'score', 'strand']]\n",
    "WT = WT[['chr', 'start', 'end', 'score', 'strand']]\n",
    "HOM.drop_duplicates(keep='first', inplace=True)\n",
    "WT.drop_duplicates(keep='first', inplace=True)"
   ]
  },
  {
   "cell_type": "code",
   "execution_count": 152,
   "metadata": {
    "ExecuteTime": {
     "end_time": "2019-03-27T04:37:42.888667Z",
     "start_time": "2019-03-27T04:37:42.883028Z"
    }
   },
   "outputs": [],
   "source": [
    "def overlap(chrom, start, end, df):\n",
    "    return df[(df['chr'] == chrom) & ((\n",
    "        (df['start'] <= start) & (start <= df['end'])) | (\n",
    "            (start <= df['start']) & (df['start'] <= end)))].shape[0] > 0"
   ]
  },
  {
   "cell_type": "code",
   "execution_count": 153,
   "metadata": {
    "ExecuteTime": {
     "end_time": "2019-03-27T04:37:59.417634Z",
     "start_time": "2019-03-27T04:37:43.752761Z"
    }
   },
   "outputs": [],
   "source": [
    "mask = WT.apply(lambda row:overlap(row['chr'], row['start'], row['end'], HOM), axis=1)"
   ]
  },
  {
   "cell_type": "code",
   "execution_count": 143,
   "metadata": {
    "ExecuteTime": {
     "end_time": "2019-03-25T12:00:36.596913Z",
     "start_time": "2019-03-25T12:00:36.592798Z"
    }
   },
   "outputs": [
    {
     "data": {
      "text/plain": [
       "0.44738179969496694"
      ]
     },
     "execution_count": 143,
     "metadata": {},
     "output_type": "execute_result"
    }
   ],
   "source": [
    "1-sum(mask)/len(mask)"
   ]
  },
  {
   "cell_type": "code",
   "execution_count": 144,
   "metadata": {
    "ExecuteTime": {
     "end_time": "2019-03-25T12:00:37.608588Z",
     "start_time": "2019-03-25T12:00:37.604921Z"
    }
   },
   "outputs": [],
   "source": [
    "WT_filtered = WT[~mask]"
   ]
  },
  {
   "cell_type": "code",
   "execution_count": 145,
   "metadata": {
    "ExecuteTime": {
     "end_time": "2019-03-25T12:00:38.389394Z",
     "start_time": "2019-03-25T12:00:38.380308Z"
    }
   },
   "outputs": [
    {
     "data": {
      "text/html": [
       "<div>\n",
       "<style scoped>\n",
       "    .dataframe tbody tr th:only-of-type {\n",
       "        vertical-align: middle;\n",
       "    }\n",
       "\n",
       "    .dataframe tbody tr th {\n",
       "        vertical-align: top;\n",
       "    }\n",
       "\n",
       "    .dataframe thead th {\n",
       "        text-align: right;\n",
       "    }\n",
       "</style>\n",
       "<table border=\"1\" class=\"dataframe\">\n",
       "  <thead>\n",
       "    <tr style=\"text-align: right;\">\n",
       "      <th></th>\n",
       "      <th>chr</th>\n",
       "      <th>start</th>\n",
       "      <th>end</th>\n",
       "      <th>score</th>\n",
       "      <th>strand</th>\n",
       "    </tr>\n",
       "  </thead>\n",
       "  <tbody>\n",
       "    <tr>\n",
       "      <th>0</th>\n",
       "      <td>chr1</td>\n",
       "      <td>4857657</td>\n",
       "      <td>4857678</td>\n",
       "      <td>-37.650356</td>\n",
       "      <td>+</td>\n",
       "    </tr>\n",
       "    <tr>\n",
       "      <th>1</th>\n",
       "      <td>chr1</td>\n",
       "      <td>4857713</td>\n",
       "      <td>4857724</td>\n",
       "      <td>-36.783672</td>\n",
       "      <td>+</td>\n",
       "    </tr>\n",
       "    <tr>\n",
       "      <th>2</th>\n",
       "      <td>chr1</td>\n",
       "      <td>4857740</td>\n",
       "      <td>4857751</td>\n",
       "      <td>-31.460691</td>\n",
       "      <td>+</td>\n",
       "    </tr>\n",
       "    <tr>\n",
       "      <th>22</th>\n",
       "      <td>chr1</td>\n",
       "      <td>7089080</td>\n",
       "      <td>7089105</td>\n",
       "      <td>-40.151836</td>\n",
       "      <td>+</td>\n",
       "    </tr>\n",
       "    <tr>\n",
       "      <th>23</th>\n",
       "      <td>chr1</td>\n",
       "      <td>7088747</td>\n",
       "      <td>7088770</td>\n",
       "      <td>-39.563774</td>\n",
       "      <td>+</td>\n",
       "    </tr>\n",
       "  </tbody>\n",
       "</table>\n",
       "</div>"
      ],
      "text/plain": [
       "     chr    start      end      score strand\n",
       "0   chr1  4857657  4857678 -37.650356      +\n",
       "1   chr1  4857713  4857724 -36.783672      +\n",
       "2   chr1  4857740  4857751 -31.460691      +\n",
       "22  chr1  7089080  7089105 -40.151836      +\n",
       "23  chr1  7088747  7088770 -39.563774      +"
      ]
     },
     "execution_count": 145,
     "metadata": {},
     "output_type": "execute_result"
    }
   ],
   "source": [
    "WT_filtered.head()"
   ]
  },
  {
   "cell_type": "code",
   "execution_count": 146,
   "metadata": {
    "ExecuteTime": {
     "end_time": "2019-03-25T12:00:38.754459Z",
     "start_time": "2019-03-25T12:00:38.730271Z"
    }
   },
   "outputs": [],
   "source": [
    "WT_filtered = WT_filtered.reset_index()\n",
    "WT_filtered.to_csv(\n",
    "    '../../footprints_pydnase/pydnase_def.bed',\n",
    "    sep='\\t',\n",
    "    header=False,\n",
    "    index=False,\n",
    "    columns=['chr', 'start', 'end', 'index', 'score', 'strand'])"
   ]
  },
  {
   "cell_type": "code",
   "execution_count": 147,
   "metadata": {
    "ExecuteTime": {
     "end_time": "2019-03-25T12:01:03.246400Z",
     "start_time": "2019-03-25T12:00:39.877815Z"
    },
    "collapsed": true
   },
   "outputs": [
    {
     "name": "stdout",
     "output_type": "stream",
     "text": [
      "\n",
      "\tPeak file = ../../footprints_pydnase/pydnase_def.bed\n",
      "\tGenome = mm10\n",
      "\tOrganism = mouse\n",
      "\tWill use up to 10 CPUs in parts that can use them\n",
      "\tPeak/BED file conversion summary:\n",
      "\t\tBED/Header formatted lines: 2640\n",
      "\t\tpeakfile formatted lines: 0\n",
      "\t\tDuplicated Peak IDs: 0\n",
      "\n",
      "\tPeak File Statistics:\n",
      "\t\tTotal Peaks: 2640\n",
      "\t\tRedundant Peak IDs: 0\n",
      "\t\tPeaks lacking information: 0 (need at least 5 columns per peak)\n",
      "\t\tPeaks with misformatted coordinates: 0 (should be integer)\n",
      "\t\tPeaks with misformatted strand: 0 (should be either +/- or 0/1)\n",
      "\n",
      "\tPeak file looks good!\n",
      "\n",
      "\tReading Positions...\n",
      "\t-----------------------\n",
      "\tFinding Closest TSS...\n",
      "\tAnnotating:.....................\n",
      "\t\tAnnotation\tNumber of peaks\tTotal size (bp)\tLog2 Ratio (obs/exp)\tLogP enrichment (+values depleted)\n",
      "\t\t3UTR\t5.0\t20043017\t-1.959\t9.157\n",
      "\t\tmiRNA\t0.0\t24864\t-0.034\t0.024\n",
      "\t\tncRNA\t7.0\t3372538\t1.097\t-3.016\n",
      "\t\tTTS\t16.0\t27004497\t-0.711\t3.803\n",
      "\t\tpseudo\t0.0\t525084\t-0.594\t0.509\n",
      "\t\tExon\t22.0\t34011073\t-0.585\t3.596\n",
      "\t\tIntron\t284.0\t942500360\t-1.687\t404.896\n",
      "\t\tIntergenic\t312.0\t1661871012\t-2.369\t1394.515\n",
      "\t\tPromoter\t1915.0\t29755103\t6.052\t-7108.162\n",
      "\t\t5UTR\t79.0\t2269945\t5.165\t-210.218\n",
      "\t\tsnoRNA\t0.0\t19\t-0.000\t0.000\n",
      "\t\trRNA\t0.0\t5631\t-0.008\t0.005\n",
      "\tNOTE: If this part takes more than 2 minutes, there is a good chance\n",
      "\t\tyour machine ran out of memory: consider hitting ctrl+C and rerunning\n",
      "\t\tthe command with \"-noann\"\n",
      "\tTo capture annotation stats in a file, use \"-annStats <filename>\" next time\n",
      "\tAnnotating:.....................\n",
      "\t\tAnnotation\tNumber of peaks\tTotal size (bp)\tLog2 Ratio (obs/exp)\tLogP enrichment (+values depleted)\n",
      "\t\t3UTR\t5.0\t20043017\t-1.959\t9.151\n",
      "\t\tOther\t0.0\t7955052\t-3.127\t7.725\n",
      "\t\tRC?\t0.0\t10979\t-0.015\t0.011\n",
      "\t\tRNA\t0.0\t114021\t-0.151\t0.111\n",
      "\t\tmiRNA\t0.0\t24864\t-0.034\t0.024\n",
      "\t\tncRNA\t7.0\t3372538\t1.098\t-3.018\n",
      "\t\tTTS\t16.0\t27004497\t-0.711\t3.798\n",
      "\t\tLINE\t10.0\t543598426\t-5.720\t538.195\n",
      "\t\tLINE?\t0.0\t8168\t-0.011\t0.008\n",
      "\t\tsrpRNA\t0.0\t43307\t-0.059\t0.042\n",
      "\t\tSINE\t11.0\t196538593\t-4.115\t156.700\n",
      "\t\tRC\t0.0\t65629\t-0.089\t0.064\n",
      "\t\ttRNA\t1.0\t266393\t1.953\t-1.480\n",
      "\t\tDNA?\t0.0\t142206\t-0.186\t0.138\n",
      "\t\tpseudo\t0.0\t525084\t-0.594\t0.509\n",
      "\t\tDNA\t0.0\t28690203\t-4.864\t27.968\n",
      "\t\tExon\t22.0\t34011073\t-0.584\t3.590\n",
      "\t\tIntron\t180.0\t598475200\t-1.689\t229.396\n",
      "\t\tIntergenic\t202.0\t828342670\t-1.991\t414.847\n",
      "\t\tPromoter\t1915.0\t29755103\t6.052\t-7108.990\n",
      "\t\t5UTR\t79.0\t2269945\t5.166\t-210.251\n",
      "\t\tsnoRNA\t0.0\t19\t-0.000\t0.000\n",
      "\t\tLTR?\t0.0\t192563\t-0.247\t0.187\n",
      "\t\tscRNA\t1.0\t602998\t0.774\t-0.815\n",
      "\t\tCpG-Island\t136.0\t3192146\t5.457\t-388.285\n",
      "\t\tLow_complexity\t2.0\t19396289\t-3.233\t13.581\n",
      "\t\tLTR\t48.0\t313011711\t-2.661\t183.178\n",
      "\t\tSimple_repeat\t3.0\t57546348\t-4.217\t46.010\n",
      "\t\tsnRNA\t1.0\t237228\t2.120\t-1.582\n",
      "\t\tUnknown\t0.0\t2407423\t-1.738\t2.335\n",
      "\t\tSINE?\t0.0\t29758\t-0.041\t0.029\n",
      "\t\tSatellite\t0.0\t4525445\t-2.432\t4.392\n",
      "\t\trRNA\t1.0\t166488\t2.631\t-1.903\n",
      "\tCounting Tags in Peaks from each directory...\n",
      "\tOrganism: mouse\n",
      "\tLoading Gene Informaiton...\n",
      "\tOutputing Annotation File...\n",
      "\tDone annotating peaks file\n",
      "\n"
     ]
    }
   ],
   "source": [
    "!annotatePeaks.pl ../../footprints_pydnase/pydnase_def.bed mm10 \\\n",
    " > ../../footprints_pydnase/pydnase_def_annotated.txt -cpu 10"
   ]
  },
  {
   "cell_type": "code",
   "execution_count": 139,
   "metadata": {
    "ExecuteTime": {
     "end_time": "2019-03-25T11:59:57.570949Z",
     "start_time": "2019-03-25T11:59:57.555988Z"
    }
   },
   "outputs": [
    {
     "data": {
      "text/html": [
       "<div>\n",
       "<style scoped>\n",
       "    .dataframe tbody tr th:only-of-type {\n",
       "        vertical-align: middle;\n",
       "    }\n",
       "\n",
       "    .dataframe tbody tr th {\n",
       "        vertical-align: top;\n",
       "    }\n",
       "\n",
       "    .dataframe thead th {\n",
       "        text-align: right;\n",
       "    }\n",
       "</style>\n",
       "<table border=\"1\" class=\"dataframe\">\n",
       "  <thead>\n",
       "    <tr style=\"text-align: right;\">\n",
       "      <th></th>\n",
       "      <th>index</th>\n",
       "      <th>chr</th>\n",
       "      <th>start</th>\n",
       "      <th>end</th>\n",
       "      <th>score</th>\n",
       "      <th>strand</th>\n",
       "    </tr>\n",
       "  </thead>\n",
       "  <tbody>\n",
       "    <tr>\n",
       "      <th>525</th>\n",
       "      <td>4116</td>\n",
       "      <td>chr12</td>\n",
       "      <td>64965730</td>\n",
       "      <td>64965755</td>\n",
       "      <td>-118.502663</td>\n",
       "      <td>+</td>\n",
       "    </tr>\n",
       "  </tbody>\n",
       "</table>\n",
       "</div>"
      ],
      "text/plain": [
       "     index    chr     start       end       score strand\n",
       "525   4116  chr12  64965730  64965755 -118.502663      +"
      ]
     },
     "execution_count": 139,
     "metadata": {},
     "output_type": "execute_result"
    }
   ],
   "source": [
    "WT_filtered[(WT_filtered['chr']=='chr12')&(WT_filtered['start']>64965708)&(WT_filtered['end']<64965777)]"
   ]
  },
  {
   "cell_type": "code",
   "execution_count": 140,
   "metadata": {
    "ExecuteTime": {
     "end_time": "2019-03-25T11:59:58.634509Z",
     "start_time": "2019-03-25T11:59:58.623840Z"
    }
   },
   "outputs": [
    {
     "data": {
      "text/html": [
       "<div>\n",
       "<style scoped>\n",
       "    .dataframe tbody tr th:only-of-type {\n",
       "        vertical-align: middle;\n",
       "    }\n",
       "\n",
       "    .dataframe tbody tr th {\n",
       "        vertical-align: top;\n",
       "    }\n",
       "\n",
       "    .dataframe thead th {\n",
       "        text-align: right;\n",
       "    }\n",
       "</style>\n",
       "<table border=\"1\" class=\"dataframe\">\n",
       "  <thead>\n",
       "    <tr style=\"text-align: right;\">\n",
       "      <th></th>\n",
       "      <th>chr</th>\n",
       "      <th>start</th>\n",
       "      <th>end</th>\n",
       "      <th>score</th>\n",
       "      <th>strand</th>\n",
       "    </tr>\n",
       "  </thead>\n",
       "  <tbody>\n",
       "    <tr>\n",
       "      <th>3547</th>\n",
       "      <td>chr12</td>\n",
       "      <td>64965730</td>\n",
       "      <td>64965755</td>\n",
       "      <td>-98.356094</td>\n",
       "      <td>+</td>\n",
       "    </tr>\n",
       "  </tbody>\n",
       "</table>\n",
       "</div>"
      ],
      "text/plain": [
       "        chr     start       end      score strand\n",
       "3547  chr12  64965730  64965755 -98.356094      +"
      ]
     },
     "execution_count": 140,
     "metadata": {},
     "output_type": "execute_result"
    }
   ],
   "source": [
    "HOM[(HOM['chr']=='chr12')&(HOM['start']>64965708)&(HOM['end']<64965777)]"
   ]
  },
  {
   "cell_type": "code",
   "execution_count": null,
   "metadata": {},
   "outputs": [],
   "source": []
  }
 ],
 "metadata": {
  "kernelspec": {
   "display_name": "Python 3",
   "language": "python",
   "name": "python3"
  },
  "language_info": {
   "codemirror_mode": {
    "name": "ipython",
    "version": 3
   },
   "file_extension": ".py",
   "mimetype": "text/x-python",
   "name": "python",
   "nbconvert_exporter": "python",
   "pygments_lexer": "ipython3",
   "version": "3.6.8"
  },
  "toc": {
   "base_numbering": 1,
   "nav_menu": {},
   "number_sections": true,
   "sideBar": true,
   "skip_h1_title": false,
   "title_cell": "Table of Contents",
   "title_sidebar": "Contents",
   "toc_cell": false,
   "toc_position": {},
   "toc_section_display": true,
   "toc_window_display": false
  }
 },
 "nbformat": 4,
 "nbformat_minor": 2
}
